{
 "metadata": {
  "name": "Diseases_1.ipynb",
  "signature": "sha256:b16c941652ecabc6ed25d65b803a2ba221f73c326aa19471a0dbaaa2a0858f6e"
 },
 "nbformat": 3,
 "nbformat_minor": 0,
 "worksheets": [
  {
   "cells": [
    {
     "cell_type": "markdown",
     "metadata": {},
     "source": [
      "Prevalence of Disease\n",
      "---\n",
      "\n",
      "The larger query has examined the presence and rate of occurence of certain disease names in corpus. Here we want 1) to look at this data, 2) graph it per year, and eventually 3) compare these diseases. We will also need to 4) normalise the data, to account for increased publishing activity over time.\n"
     ]
    },
    {
     "cell_type": "markdown",
     "metadata": {},
     "source": [
      "Import relevant libraries and data\n",
      "----"
     ]
    },
    {
     "cell_type": "code",
     "collapsed": false,
     "input": [
      "import yaml\n",
      "import matplotlib.pyplot as plt\n",
      "disease = 'consumption'\n",
      "filename = 'diseases_20150616_1139_38.yml'"
     ],
     "language": "python",
     "metadata": {},
     "outputs": [],
     "prompt_number": 2
    },
    {
     "cell_type": "markdown",
     "metadata": {},
     "source": [
      "Here, change the search term and the result file by commenting out the ones you don't want to use"
     ]
    },
    {
     "cell_type": "code",
     "collapsed": false,
     "input": [
      "disease = 'cholera'\n",
      "filename = 'diseases_20150616_1139_9.yml'\n",
      "\n",
      "disease = 'measles'\n",
      "filename = 'diseases_20150616_1139_9.yml'\n",
      "\n",
      "disease = 'whooping'\n",
      "filename = 'diseases_20150616_1139_43.yml'"
     ],
     "language": "python",
     "metadata": {},
     "outputs": [],
     "prompt_number": 3
    },
    {
     "cell_type": "code",
     "collapsed": false,
     "input": [
      "with open(\"data/\" + filename, 'r') as f:\n",
      "    results = yaml.load(f)"
     ],
     "language": "python",
     "metadata": {},
     "outputs": [],
     "prompt_number": 4
    },
    {
     "cell_type": "markdown",
     "metadata": {},
     "source": [
      "Take a look at the data for the disease type we're interested in"
     ]
    },
    {
     "cell_type": "code",
     "collapsed": false,
     "input": [
      "results[disease]"
     ],
     "language": "python",
     "metadata": {},
     "outputs": [
      {
       "metadata": {},
       "output_type": "pyout",
       "prompt_number": 6,
       "text": [
        "{None: 47,\n",
        " 1633: 2,\n",
        " 1639: 1,\n",
        " 1660: 4,\n",
        " 1661: 3,\n",
        " 1664: 2,\n",
        " 1668: 1,\n",
        " 1678: 2,\n",
        " 1679: 1,\n",
        " 1681: 1,\n",
        " 1686: 2,\n",
        " 1713: 1,\n",
        " 1773: 1,\n",
        " 1775: 1,\n",
        " 1778: 1,\n",
        " 1784: 2,\n",
        " 1785: 2,\n",
        " 1799: 3,\n",
        " 1801: 2,\n",
        " 1805: 2,\n",
        " 1806: 1,\n",
        " 1807: 1,\n",
        " 1809: 1,\n",
        " 1810: 2,\n",
        " 1811: 3,\n",
        " 1812: 6,\n",
        " 1813: 6,\n",
        " 1814: 5,\n",
        " 1815: 2,\n",
        " 1816: 5,\n",
        " 1817: 6,\n",
        " 1818: 5,\n",
        " 1819: 4,\n",
        " 1820: 2,\n",
        " 1821: 3,\n",
        " 1822: 2,\n",
        " 1823: 4,\n",
        " 1824: 1,\n",
        " 1825: 5,\n",
        " 1826: 3,\n",
        " 1827: 15,\n",
        " 1828: 5,\n",
        " 1829: 6,\n",
        " 1830: 1,\n",
        " 1831: 3,\n",
        " 1832: 3,\n",
        " 1833: 5,\n",
        " 1834: 6,\n",
        " 1835: 13,\n",
        " 1836: 11,\n",
        " 1837: 5,\n",
        " 1838: 8,\n",
        " 1839: 13,\n",
        " 1840: 14,\n",
        " 1841: 11,\n",
        " 1842: 14,\n",
        " 1843: 3,\n",
        " 1844: 17,\n",
        " 1845: 10,\n",
        " 1846: 19,\n",
        " 1847: 7,\n",
        " 1848: 10,\n",
        " 1849: 34,\n",
        " 1850: 18,\n",
        " 1851: 22,\n",
        " 1852: 25,\n",
        " 1853: 15,\n",
        " 1854: 13,\n",
        " 1855: 15,\n",
        " 1856: 13,\n",
        " 1857: 17,\n",
        " 1858: 5,\n",
        " 1859: 16,\n",
        " 1860: 37,\n",
        " 1861: 19,\n",
        " 1862: 19,\n",
        " 1863: 27,\n",
        " 1864: 20,\n",
        " 1865: 27,\n",
        " 1866: 21,\n",
        " 1867: 25,\n",
        " 1868: 37,\n",
        " 1869: 39,\n",
        " 1870: 35,\n",
        " 1871: 14,\n",
        " 1872: 28,\n",
        " 1873: 28,\n",
        " 1874: 25,\n",
        " 1875: 33,\n",
        " 1876: 26,\n",
        " 1877: 25,\n",
        " 1878: 37,\n",
        " 1879: 42,\n",
        " 1880: 44,\n",
        " 1881: 34,\n",
        " 1882: 69,\n",
        " 1883: 42,\n",
        " 1884: 59,\n",
        " 1885: 53,\n",
        " 1886: 25,\n",
        " 1887: 35,\n",
        " 1888: 42,\n",
        " 1889: 49,\n",
        " 1890: 87,\n",
        " 1891: 48,\n",
        " 1892: 112,\n",
        " 1893: 62,\n",
        " 1894: 48,\n",
        " 1895: 56,\n",
        " 1896: 56,\n",
        " 1897: 92,\n",
        " 1898: 60,\n",
        " 1899: 31,\n",
        " 1920: 1}"
       ]
      }
     ],
     "prompt_number": 6
    },
    {
     "cell_type": "markdown",
     "metadata": {},
     "source": [
      "Plot this out by year"
     ]
    },
    {
     "cell_type": "code",
     "collapsed": false,
     "input": [
      "plt.plot(results[disease].keys(), results[disease].values(), 'x')"
     ],
     "language": "python",
     "metadata": {},
     "outputs": [
      {
       "metadata": {},
       "output_type": "pyout",
       "prompt_number": 7,
       "text": [
        "[<matplotlib.lines.Line2D at 0x10dde40d0>]"
       ]
      },
      {
       "metadata": {},
       "output_type": "display_data",
       "png": "[encoded data removed]",
       "text": [
        "<matplotlib.figure.Figure at 0x10ddd5050>"
       ]
      }
     ],
     "prompt_number": 7
    },
    {
     "cell_type": "markdown",
     "metadata": {},
     "source": [
      "Bokeh\n",
      "---\n",
      "\n",
      "Bokeh is a library which lets us create interactive web-based graphs and charts.\n",
      "\n",
      "Here, we're importing the libary, creating a graph with appropriate axis names, and displaying it in a web browser. We could put this on a web server or embed it in an html page (one which allows JavaScript).\n"
     ]
    },
    {
     "cell_type": "code",
     "collapsed": false,
     "input": [
      "from bokeh.plotting import figure, output_file, show"
     ],
     "language": "python",
     "metadata": {},
     "outputs": [],
     "prompt_number": 19
    },
    {
     "cell_type": "code",
     "collapsed": false,
     "input": [
      "output_file(\"consumption.html\", title=\"Number of books referencing \" + disease + \" by year\")\n",
      "p = figure(title= disease + \" references\", x_axis_label='Year', y_axis_label='Number of books')\n",
      "p.line(results[disease].keys(), results[disease].values())\n",
      "show(p)"
     ],
     "language": "python",
     "metadata": {},
     "outputs": [
      {
       "output_type": "stream",
       "stream": "stdout",
       "text": [
        "Session output file 'consumption.html' already exists, will be overwritten.\n"
       ]
      }
     ],
     "prompt_number": 102
    },
    {
     "cell_type": "markdown",
     "metadata": {},
     "source": [
      "Normalisation\n",
      "---\n",
      "\n",
      "Here, we are examining the total number of books published over the period to see how much our search terms are affected by the way that the number of books (and pages, and words!) published increases over the measurement period."
     ]
    },
    {
     "cell_type": "code",
     "collapsed": false,
     "input": [
      "normal_filename = 'normaliser_20150616_1844.yml'\n",
      "with open('data/' + normal_filename, 'r') as f:\n",
      "    publication = yaml.load(f)"
     ],
     "language": "python",
     "metadata": {},
     "outputs": [],
     "prompt_number": 8
    },
    {
     "cell_type": "markdown",
     "metadata": {},
     "source": [
      "These stages carry out **normalisation**: dividing the per year word occurence with the per year book occurence to get a words per book per year measure. \n",
      "\n",
      "**With new data we can normalise this as a ratio of words/word**\n"
     ]
    },
    {
     "cell_type": "code",
     "collapsed": false,
     "input": [
      "normed_results = {}\n",
      "for year in results[disease]:\n",
      "    if year>0:\n",
      "        normed_results[year] = results[disease][year]/float(publication[year][0])"
     ],
     "language": "python",
     "metadata": {},
     "outputs": [],
     "prompt_number": 15
    },
    {
     "cell_type": "code",
     "collapsed": false,
     "input": [
      "plt.plot(normed_results.keys(), normed_results.values(), 'x')"
     ],
     "language": "python",
     "metadata": {},
     "outputs": [
      {
       "metadata": {},
       "output_type": "pyout",
       "prompt_number": 17,
       "text": [
        "[<matplotlib.lines.Line2D at 0x10e701890>]"
       ]
      },
      {
       "metadata": {},
       "output_type": "display_data",
       "png": "[encoded data removed]",
       "text": [
        "<matplotlib.figure.Figure at 0x10dd43c10>"
       ]
      }
     ],
     "prompt_number": 17
    },
    {
     "cell_type": "code",
     "collapsed": false,
     "input": [
      "output_file(disease + \".html\", title=\"Proportion of books referencing \" + disease + \" by year\")\n",
      "p = figure(title= disease + \" references\", x_axis_label='Year', y_axis_label='Number of books')\n",
      "p.scatter(normed_results.keys(), normed_results.values())\n",
      "show(p)"
     ],
     "language": "python",
     "metadata": {},
     "outputs": [],
     "prompt_number": 22
    },
    {
     "cell_type": "code",
     "collapsed": false,
     "input": [],
     "language": "python",
     "metadata": {},
     "outputs": []
    }
   ],
   "metadata": {}
  }
 ]
}